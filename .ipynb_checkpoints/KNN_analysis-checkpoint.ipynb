{
 "cells": [
  {
   "cell_type": "markdown",
   "metadata": {},
   "source": [
    "## Análise Empírica do algoritmo K-NN"
   ]
  },
  {
   "cell_type": "markdown",
   "metadata": {},
   "source": [
    "### 1. Implementação do classificador"
   ]
  },
  {
   "cell_type": "code",
   "execution_count": 7,
   "metadata": {},
   "outputs": [],
   "source": [
    "# Realização dos imports das bibliotecas\n",
    "import numpy as np\n",
    "from sklearn.datasets import load_digits\n",
    "from sklearn.metrics.pairwise import euclidean_distances\n",
    "from sklearn.model_selection import train_test_split\n",
    "\n",
    "\n",
    "def class_histogram(kn_neighbors, n_classes):\n",
    "    c = [0] * n_classes # custo constante\n",
    "\n",
    "    for i in kn_neighbors: # custo O(n)\n",
    "        c[i] += 1 # custo constante\n",
    "\n",
    "    return c # custo constante\n",
    "\n",
    "def knn(X_train, Y_train, x, k):\n",
    "    \n",
    "    # Calcula o vetor de distâncias entre x e todos os pontos em X_train\n",
    "    d = euclidean_distances(x.reshape(1, -1), X_train).reshape(-1)\n",
    "    \n",
    "    idx = np.argsort(d) # custo O(n lg n) (quick sort)\n",
    "\n",
    "    hist = class_histogram(Y_train[idx][:k], len(set(Y_train))) # custo O(n)\n",
    "    \n",
    "\n",
    "    return np.argmax(hist) # custo O(n) ?\n",
    "\n"
   ]
  },
  {
   "cell_type": "markdown",
   "metadata": {},
   "source": [
    "### 2. Carregamento da base de dados de dígitos e divisão em treino e teste"
   ]
  },
  {
   "cell_type": "code",
   "execution_count": 8,
   "metadata": {},
   "outputs": [
    {
     "name": "stdout",
     "output_type": "stream",
     "text": [
      "Acurácia: 98.70%\n"
     ]
    }
   ],
   "source": [
    "X, Y = load_digits(return_X_y=True) # custo O(n)\n",
    "\n",
    "X_train, X_test, Y_train, Y_test = train_test_split(X, Y, test_size=0.3, shuffle=True) # custo constante\n",
    "\n",
    "misses, hits = 0, 0 # custo constante\n",
    "k = 3 # custo constante\n",
    "\n",
    "\n",
    "for i, x in enumerate(X_test): \n",
    "    if knn(X_train, Y_train, x, k) == Y_test[i]:\n",
    "        hits += 1 # custo constante\n",
    "    else:\n",
    "        misses += 1 # custo constante\n",
    "\n",
    "print (\"Acurácia: %.02f%%\" % (hits / float(hits + misses) * 100)) # custo constante ?"
   ]
  },
  {
   "cell_type": "markdown",
   "metadata": {},
   "source": [
    "### 3. Análise completa do algoritmo"
   ]
  },
  {
   "cell_type": "markdown",
   "metadata": {},
   "source": [
    "### 3.1 Análise assintótica"
   ]
  },
  {
   "cell_type": "markdown",
   "metadata": {},
   "source": [
    "* No que diz respeito ao *algoritmo K-NN*, foi verificado que ele segue um comportamento __O(n\\*lg\\*n)__. Para chegar a este resultado, foram considerados os seguintes pontos:\n",
    "  * A função *class\\_histogram* tem o seu desempenho definido por: **T(n) = c + n + c = O(n)**\n",
    "      * O termo *n* da soma é proveniente do laço for. Sua análise é trivial, visto que dada uma entrada de tamanho n para os vizinhos, o laço será executado n vezes.\n",
    "  * Já a função _knn_ tem o seu desempenho definido por: __T(n) = n + n\\*lg\\*n + n + n = O(n\\*lg\\*n)__\n",
    "      * O primeiro termo *n* da soma é proveniente da análise da função de distância euclidiana. Essa análise pode ser detalhada da seguinte maneira:\n",
    "          1. O conjunto passado como parâmetro para a função euclidiana é o conjunto de treino, que corresponde a 70% do total de dados da base de números. Logo, sendo *n* o tamanho da base de dados, o conjunto de treino obedece à relação $\\frac{7n}{10}$, que também pode ter o seu tamanho representado como sendo *n*.\n",
    "          2. Assim, ao executar a função euclidiana é calculado o vetor distância entre um valor *x* passado como parâmetro e todos os pontos do conjunto de treino.\n",
    "          3. Analisando os parâmetros passados para a função euclidiana, tem-se que **x = 64** e **n = 1217**. Levando em consideração que as funções **reshape** tem custo constante, obtemos o seguinte comportamento: __T(n) = 64\\*c\\*n\\*c = 64\\*n = O(n)__\n",
    "      * Já o segundo termo, _n\\*lg\\*n_, corresponde a análise da função argsort do numpy, que é embasada no algoritmo de ordenação _Quick Sort_, cujo desempenho é _n\\*lg\\*n_.\n",
    "      * O terceiro termo, *n*, provém da análise da função *class\\_histogram* descrita anteriormente.\n",
    "      * Por fim, o último termo *n* da soma corresponde ao desempenho da função argmax do numpy. Essa função retorna o índice do maior valor do array passado como parâmetro, por isso seu desempenho é *n*, pois é necessário percorrer um array de tamanho n.\n",
    "* Em relação ao algoritmo que efetua o *carregamento da base dados*, verificou-se que o seu comportamento é __T(n) = n + 3c + n\\*(n\\*lg\\*n) + c = O(n²\\*lg\\*n)__\n",
    "    * O primeiro *n* corresponde ao desempenho da função de carregamento do sklearn. DETALHAR MAIS.\n",
    "    * O termo __n\\*(n\\*lg\\*n)__ provém do laço for que é executado n vezes (o n corresponde ao tamanho do conjunto designado para teste), sendo que em cada uma dessas vezes o algoritmo knn, que é __n\\*\\lg\\*n__, é invocado no if. Por isso existe a multiplicação existe, ou seja, knn invocado n vezes."
   ]
  },
  {
   "cell_type": "markdown",
   "metadata": {},
   "source": [
    "### 3.2 Análise empírica"
   ]
  },
  {
   "cell_type": "markdown",
   "metadata": {},
   "source": [
    "* Para a análise empírica foi considerada uma entrada de tamanho ???? EXECUTAR"
   ]
  },
  {
   "cell_type": "markdown",
   "metadata": {},
   "source": [
    "### 3.3 Comparação entre análise assintótica e análise empírica"
   ]
  },
  {
   "cell_type": "markdown",
   "metadata": {},
   "source": [
    "* A tabela a seguir apresenta uma comparação entre as análises assintótica e empírica.\n",
    "<style type=\"text/css\">\n",
    ".tg  {border-collapse:collapse;border-spacing:0;}\n",
    ".tg td{font-family:Arial, sans-serif;font-size:14px;padding:10px 5px;border-style:solid;border-width:1px;overflow:hidden;word-break:normal;border-color:black;}\n",
    ".tg th{font-family:Arial, sans-serif;font-size:14px;font-weight:normal;padding:10px 5px;border-style:solid;border-width:1px;overflow:hidden;word-break:normal;border-color:black;}\n",
    ".tg .tg-c3ow{border-color:inherit;text-align:center;vertical-align:top}\n",
    ".tg .tg-uys7{border-color:inherit;text-align:center}\n",
    "</style>\n",
    "<table class=\"tg\">\n",
    "  <tr>\n",
    "    <th class=\"tg-uys7\"><span style=\"font-weight:bold\">Elemento</span></th>\n",
    "    <th class=\"tg-uys7\"><span style=\"font-weight:bold\">Tempo Assintótico</span></th>\n",
    "    <th class=\"tg-uys7\"><span style=\"font-weight:bold\">Entrada</span></th>\n",
    "    <th class=\"tg-uys7\"><span style=\"font-weight:bold\">Tempo empírico</span></th>\n",
    "  </tr>\n",
    "  <tr>\n",
    "    <td class=\"tg-uys7\"></td>\n",
    "    <td class=\"tg-uys7\"></td>\n",
    "    <td class=\"tg-uys7\"></td>\n",
    "    <td class=\"tg-uys7\"></td>\n",
    "  </tr>\n",
    "  <tr>\n",
    "    <td class=\"tg-uys7\"></td>\n",
    "    <td class=\"tg-uys7\"></td>\n",
    "    <td class=\"tg-uys7\"></td>\n",
    "    <td class=\"tg-uys7\"></td>\n",
    "  </tr>\n",
    "  <tr>\n",
    "    <td class=\"tg-c3ow\"></td>\n",
    "    <td class=\"tg-c3ow\"></td>\n",
    "    <td class=\"tg-c3ow\"></td>\n",
    "    <td class=\"tg-c3ow\"></td>\n",
    "  </tr>\n",
    "  <tr>\n",
    "    <td class=\"tg-c3ow\"></td>\n",
    "    <td class=\"tg-c3ow\"></td>\n",
    "    <td class=\"tg-c3ow\"></td>\n",
    "    <td class=\"tg-c3ow\"></td>\n",
    "  </tr>\n",
    "</table>"
   ]
  },
  {
   "cell_type": "markdown",
   "metadata": {},
   "source": [
    "* Já a figura a seguir apresenta o comportamento do algoritmo conforme a entrada fornecida"
   ]
  },
  {
   "cell_type": "code",
   "execution_count": null,
   "metadata": {},
   "outputs": [],
   "source": []
  },
  {
   "cell_type": "code",
   "execution_count": null,
   "metadata": {},
   "outputs": [],
   "source": []
  }
 ],
 "metadata": {
  "kernelspec": {
   "display_name": "Python 2",
   "language": "python",
   "name": "python2"
  },
  "language_info": {
   "codemirror_mode": {
    "name": "ipython",
    "version": 2
   },
   "file_extension": ".py",
   "mimetype": "text/x-python",
   "name": "python",
   "nbconvert_exporter": "python",
   "pygments_lexer": "ipython2",
   "version": "2.7.15"
  }
 },
 "nbformat": 4,
 "nbformat_minor": 2
}
