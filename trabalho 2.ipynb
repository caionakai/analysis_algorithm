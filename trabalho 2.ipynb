{
 "cells": [
  {
   "cell_type": "code",
   "execution_count": 5,
   "metadata": {},
   "outputs": [],
   "source": [
    "# Realização dos imports das bibliotecas\n",
    "import numpy as np\n",
    "from sklearn.datasets import load_digits\n",
    "from sklearn.metrics.pairwise import euclidean_distances\n",
    "from sklearn.model_selection import train_test_split\n",
    "\n",
    "\n",
    "def class_histogram(kn_neighbors, n_classes):\n",
    "    c = [0] * n_classes # custo constante\n",
    "\n",
    "    for i in kn_neighbors: # custo O(n)\n",
    "        c[i] += 1 # custo constante\n",
    "\n",
    "    return c # custo constante\n",
    "\n",
    "def knn(X_train, Y_train, x, k):\n",
    "    \n",
    "    # Calcula o vetor de distâncias entre x e todos os pontos em X_train\n",
    "    d = euclidean_distances(x.reshape(1, -1), X_train).reshape(-1)\n",
    "    \n",
    "    idx = np.argsort(d) # custo O(n lg n) (quick sort)\n",
    "\n",
    "    hist = class_histogram(Y_train[idx][:k], len(set(Y_train))) # custo O(n)\n",
    "    \n",
    "\n",
    "    return np.argmax(hist) # custo O(n) ?\n",
    "\n"
   ]
  },
  {
   "cell_type": "code",
   "execution_count": 9,
   "metadata": {},
   "outputs": [
    {
     "name": "stdout",
     "output_type": "stream",
     "text": [
      "540\n",
      "Acurácia: 98.52%\n"
     ]
    }
   ],
   "source": [
    "X, Y = load_digits(return_X_y=True) # custo O(n)\n",
    "\n",
    "X_train, X_test, Y_train, Y_test = train_test_split(X, Y, test_size=0.3, shuffle=True) # custo constante\n",
    "\n",
    "misses, hits = 0, 0 # custo constante\n",
    "k = 3 # custo constante\n",
    "\n",
    "\n",
    "for i, x in enumerate(X_test): \n",
    "    if knn(X_train, Y_train, x, k) == Y_test[i]:\n",
    "        hits += 1 # custo constante\n",
    "    else:\n",
    "        misses += 1 # custo constante\n",
    "\n",
    "print (\"Acurácia: %.02f%%\" % (hits / float(hits + misses) * 100)) # custo constante ?"
   ]
  },
  {
   "cell_type": "code",
   "execution_count": null,
   "metadata": {},
   "outputs": [],
   "source": []
  }
 ],
 "metadata": {
  "kernelspec": {
   "display_name": "Python 3",
   "language": "python",
   "name": "python3"
  },
  "language_info": {
   "codemirror_mode": {
    "name": "ipython",
    "version": 3
   },
   "file_extension": ".py",
   "mimetype": "text/x-python",
   "name": "python",
   "nbconvert_exporter": "python",
   "pygments_lexer": "ipython3",
   "version": "3.5.1"
  }
 },
 "nbformat": 4,
 "nbformat_minor": 2
}
